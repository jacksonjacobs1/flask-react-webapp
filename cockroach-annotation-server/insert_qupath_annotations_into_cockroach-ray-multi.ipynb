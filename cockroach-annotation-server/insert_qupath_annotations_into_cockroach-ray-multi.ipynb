{
 "cells": [
  {
   "cell_type": "code",
   "execution_count": null,
   "id": "6c2bd055-edb5-4e0b-8d7d-616fa98f183b",
   "metadata": {},
   "source": [
    "#https://www.cockroachlabs.com/docs/stable/start-a-local-cluster-in-docker-linux.html#step-7-stop-the-cluster"
   ],
   "outputs": []
  },
  {
   "cell_type": "code",
   "execution_count": 1,
   "id": "97125815",
   "metadata": {},
   "source": [
    "import json"
   ],
   "outputs": []
  },
  {
   "cell_type": "code",
   "execution_count": 2,
   "id": "b9dcc218-b15f-42c1-9f14-4c4703eaa6b2",
   "metadata": {},
   "source": [
    "from sqlalchemy import create_engine, Column, String, Integer, func\n",
    "from sqlalchemy.ext.declarative import declarative_base\n",
    "from sqlalchemy.dialects.postgresql import ARRAY\n",
    "from sqlalchemy.orm import sessionmaker\n",
    "from geoalchemy2 import Geometry \n",
    "from tqdm import tqdm"
   ],
   "outputs": []
  },
  {
   "cell_type": "code",
   "execution_count": 3,
   "id": "55453114-2dcf-47bc-8fff-5f9ed89f51c8",
   "metadata": {},
   "source": [
    "import ray"
   ],
   "outputs": []
  },
  {
   "cell_type": "code",
   "execution_count": 4,
   "id": "f2821fab-6158-4dbb-ab0b-8ffb2dd0509f",
   "metadata": {},
   "source": [
    "ray.init()"
   ],
   "outputs": []
  },
  {
   "cell_type": "code",
   "execution_count": 5,
   "id": "135b3c5a-4a0d-4bfb-9860-b9f814393fab",
   "metadata": {},
   "source": [
    "from glob import glob\n",
    "import shapely\n",
    "from shapely.geometry import shape"
   ],
   "outputs": []
  },
  {
   "cell_type": "code",
   "execution_count": 6,
   "id": "2f4d2835-8798-431e-b3b7-bfbdecf7b6cd",
   "metadata": {},
   "source": [
    "# Define the base class for ORM\n",
    "Base = declarative_base()\n",
    "def getAnnotationClass(tablename):# Define the Annotation class\n",
    "    class Annotation(Base):\n",
    "        __tablename__ = tablename\n",
    "    \n",
    "        id = Column(Integer, primary_key=True)\n",
    "        name = Column(String)\n",
    "        color = Column(ARRAY(Integer))\n",
    "        coordinates = Column(Geometry('POLYGON'))\n",
    "    return Annotation"
   ],
   "outputs": []
  },
  {
   "cell_type": "code",
   "execution_count": 7,
   "id": "b6bb85a9-9fbf-44fd-8832-d22895a8e671",
   "metadata": {},
   "source": [
    "@ray.remote\n",
    "def commit(tablename,annos):\n",
    "    from sqlalchemy import create_engine, Column, String, Integer, func\n",
    "    from sqlalchemy import create_engine, Column, String, Integer, func\n",
    "    from sqlalchemy.ext.declarative import declarative_base\n",
    "    from sqlalchemy.dialects.postgresql import ARRAY\n",
    "    from sqlalchemy.orm import sessionmaker\n",
    "    from geoalchemy2 import Geometry \n",
    "    from tqdm import tqdm\n",
    "    import numpy as np\n",
    "\n",
    "    Base = declarative_base()\n",
    "\n",
    "    def getAnnotationClass(tablename):# Define the Annotation class\n",
    "        class Annotation(Base):\n",
    "            __tablename__ = tablename\n",
    "        \n",
    "            id = Column(Integer, primary_key=True)\n",
    "            name = Column(String)\n",
    "            color = Column(ARRAY(Integer))\n",
    "            coordinates = Column(Geometry('POLYGON'))\n",
    "        return Annotation\n",
    "    Annotation=getAnnotationClass(tablename);\n",
    "    \n",
    "    db_url=np.random.choice(['cockroachdb://root@170.140.138.87:26257/test1',\n",
    "                             'cockroachdb://root@170.140.138.63:26257/test1',\n",
    "                             'cockroachdb://root@170.140.138.73:26257/test1'])\n",
    "\n",
    "    engine = create_engine(db_url)#,echo=True)\n",
    "    # Create a session\n",
    "    Session = sessionmaker(bind=engine)\n",
    "    session = Session()\n",
    "    for a in annos:\n",
    "        session.add(Annotation(name=a[0], color=a[1], coordinates=a[2].wkt))\n",
    "    \n",
    "    session.commit()\n",
    "    session.close()"
   ],
   "outputs": []
  },
  {
   "cell_type": "code",
   "execution_count": 8,
   "id": "becd1e12-7874-4924-be21-1e3aae787a74",
   "metadata": {},
   "source": [
    "engine = create_engine('cockroachdb://root@170.140.138.87:26257/test1')#,echo=True)"
   ],
   "outputs": []
  },
  {
   "cell_type": "code",
   "execution_count": 9,
   "id": "d9871f07-cf07-4574-a025-b8aea585b833",
   "metadata": {},
   "source": [
    "from sqlalchemy_utils import database_exists, create_database\n",
    "create_database(engine.url)    "
   ],
   "outputs": []
  },
  {
   "cell_type": "code",
   "execution_count": 10,
   "id": "ba96d9a3-670e-45f3-81ab-048d11c2ccc8",
   "metadata": {},
   "source": [
    "wsifnames=glob('*.ndpi')\n",
    "for i,wsifname in enumerate(wsifnames):\n",
    "    jsonfname=wsifname.replace(\"ndpi\",\"json\")\n",
    "    with open(jsonfname, 'r') as file:\n",
    "        data = json.load(file)\n",
    "\n",
    "    tablename=f'a_{i}'\n",
    "    Annotation=getAnnotationClass(tablename)\n",
    "    \n",
    "    Base.metadata.create_all(engine)\n",
    "\n",
    "    tasks = []\n",
    "    all_anno=[]\n",
    "    for i,d in enumerate(tqdm(data)):\n",
    "        shapely_geometry = shape(d['geometry'])\n",
    "        name = d['properties']['classification']['name']\n",
    "        color = d['properties']['classification']['color']\n",
    "        geom = shapely_geometry\n",
    "        \n",
    "        all_anno.append([name,color,geom])\n",
    "        if len(all_anno)==1_000:\n",
    "            task= commit.remote(tablename,all_anno)\n",
    "            tasks.append(task)\n",
    "            all_anno=[]\n",
    "            \n",
    "        \n",
    "    \n",
    "    print(\"waiting\")\n",
    "    vals=ray.get(tasks)\n",
    "    print(len(vals))\n"
   ],
   "outputs": []
  },
  {
   "cell_type": "code",
   "execution_count": null,
   "id": "d40ca588-cce5-47b7-baeb-a37da95e144a",
   "metadata": {
    "lines_to_next_cell": 0
   },
   "source": [
    "#---------- below is scratch code for testing query"
   ],
   "outputs": []
  },
  {
   "cell_type": "code",
   "execution_count": 11,
   "id": "5e34abb8-2913-4cce-b03b-8b98d4de4604",
   "metadata": {},
   "source": [
    "from shapely.geometry import Point\n",
    "from geoalchemy2.functions import ST_Contains, ST_Intersects, ST_AsBinary, ST_AsText\n",
    "from geoalchemy2 import WKTElement"
   ],
   "outputs": []
  },
  {
   "cell_type": "code",
   "execution_count": 12,
   "id": "f97e54d2-4cf5-4174-b48b-5af7ff0566ff",
   "metadata": {},
   "source": [
    "import numpy as np"
   ],
   "outputs": []
  },
  {
   "cell_type": "code",
   "execution_count": 13,
   "id": "cecb9234-9831-45dd-b8d0-a4758b845f91",
   "metadata": {},
   "source": [
    "query_geom = shape(data[0]['geometry'])\n",
    "#query_geom = shape(np.random.choice(data)['geometry'])"
   ],
   "outputs": []
  },
  {
   "cell_type": "code",
   "execution_count": 14,
   "id": "b59468a5-c8b9-48ae-903e-dc443991460d",
   "metadata": {
    "lines_to_next_cell": 2
   },
   "source": [
    "Session = sessionmaker(bind=engine)\n",
    "session = Session()"
   ],
   "outputs": []
  },
  {
   "cell_type": "code",
   "execution_count": 15,
   "id": "03bd4c09-651c-429a-a318-880a8d6b8a1e",
   "metadata": {},
   "source": [
    "#%%timeit\n",
    "\n",
    "query_geom = shape(np.random.choice(data)['geometry'])\n",
    "results = session.query(Annotation).filter(ST_Contains(Annotation.coordinates, query_geom.centroid.wkt)).all()"
   ],
   "outputs": []
  },
  {
   "cell_type": "code",
   "execution_count": 22,
   "id": "5d0f88f1-8aba-4868-aa72-a43869e560e1",
   "metadata": {},
   "source": [],
   "outputs": []
  },
  {
   "cell_type": "code",
   "execution_count": 16,
   "id": "3a4a20fb-46cd-4ecd-b4fe-d30007ada67a",
   "metadata": {},
   "source": [
    "# Print the results\n",
    "from shapely import wkt, wkb\n",
    "for i,annotation in enumerate(results):\n",
    "    print(i,annotation.name)\n",
    "    shapely_obj=wkb.loads(str(annotation.coordinates))\n",
    "    print(shapely_obj.centroid)"
   ],
   "outputs": []
  },
  {
   "cell_type": "code",
   "execution_count": 18,
   "id": "b8e88309-3c27-483c-b287-1e248445a3c0",
   "metadata": {},
   "source": [
    "shapely_obj.bounds"
   ],
   "outputs": []
  },
  {
   "cell_type": "code",
   "execution_count": 19,
   "id": "35adf6fe-8fe9-4ca9-8978-3363691d9c46",
   "metadata": {},
   "source": [
    "import openslide"
   ],
   "outputs": []
  },
  {
   "cell_type": "code",
   "execution_count": 20,
   "id": "1c1a6639-8169-42af-af02-430a180e5294",
   "metadata": {},
   "source": [
    "i"
   ],
   "outputs": []
  },
  {
   "cell_type": "code",
   "execution_count": 23,
   "id": "e43ac914-9300-4202-940e-58970030c402",
   "metadata": {},
   "source": [
    "Annotation.__tablename__"
   ],
   "outputs": []
  },
  {
   "cell_type": "code",
   "execution_count": 27,
   "id": "91ef99a0-802f-4078-842f-d55175d5a5bf",
   "metadata": {},
   "source": [
    "osh=openslide.open_slide(wsifnames[1])"
   ],
   "outputs": []
  },
  {
   "cell_type": "code",
   "execution_count": 29,
   "id": "7751e84a-2ddc-43b3-8714-b00933b87b59",
   "metadata": {},
   "source": [
    "osh.level_dimensions"
   ],
   "outputs": []
  },
  {
   "cell_type": "code",
   "execution_count": 57,
   "id": "44d17f3c-886a-449c-80d0-5650d53174bd",
   "metadata": {},
   "source": [
    "coords=[int(a) for a in shapely_obj.bounds[0:2]]"
   ],
   "outputs": []
  },
  {
   "cell_type": "code",
   "execution_count": 60,
   "id": "2b567094-220b-4cd1-8280-9a5d40025230",
   "metadata": {},
   "source": [
    "xwidth=int(shapely_obj.bounds[2]-shapely_obj.bounds[0])\n",
    "ywidth=int(shapely_obj.bounds[3]-shapely_obj.bounds[1])"
   ],
   "outputs": []
  },
  {
   "cell_type": "code",
   "execution_count": 76,
   "id": "b61d7f59-5035-4bb0-a0a1-ad2c8c30200d",
   "metadata": {},
   "source": [
    "i=np.asarray(osh.read_region(coords,0,(xwidth,ywidth)))"
   ],
   "outputs": []
  },
  {
   "cell_type": "code",
   "execution_count": 77,
   "id": "9027a19d-b097-426e-ae7f-2ea2da1e76b8",
   "metadata": {},
   "source": [
    "import matplotlib.pyplot as plt"
   ],
   "outputs": []
  },
  {
   "cell_type": "code",
   "execution_count": 78,
   "id": "5977f797-157b-494e-afea-86f9cc3a82da",
   "metadata": {},
   "source": [
    "plt.imshow(i)"
   ],
   "outputs": []
  },
  {
   "cell_type": "code",
   "execution_count": 65,
   "id": "a06059f2-8f89-4eb5-8512-a58e9f7f1b11",
   "metadata": {},
   "source": [
    "shapely_obj"
   ],
   "outputs": []
  },
  {
   "cell_type": "code",
   "execution_count": 69,
   "id": "ad6198c0-22e8-484b-be5c-e2658837c5fe",
   "metadata": {},
   "source": [
    "import numpy as np\n",
    "import matplotlib.pyplot as plt\n",
    "from shapely.geometry import Polygon\n",
    "from matplotlib.patches import Polygon as PolygonPatch\n",
    "from skimage.draw import polygon\n",
    "\n",
    "\n",
    "def generate_binary_mask(shape_obj):\n",
    "    # Get the bounds of the shape object\n",
    "    min_x, min_y, max_x, max_y = shape_obj.bounds\n",
    "\n",
    "    # Extract coordinates of the shape object\n",
    "    coords = np.array(shape_obj.exterior.coords.xy).T\n",
    "\n",
    "    # Shift the coordinates to fit within the bounding box\n",
    "    shifted_coords = coords - np.array([min_x, min_y])\n",
    "\n",
    "    # Calculate the dimensions of the binary mask\n",
    "    width, height = int(max_x - min_x), int(max_y - min_y)\n",
    "\n",
    "    # Create a blank mask\n",
    "    mask = np.zeros((height, width), dtype=np.uint8)\n",
    "\n",
    "    # Fill the mask with the shape object\n",
    "    # Fill the mask with the shape object\n",
    "    rr, cc = polygon(shifted_coords[:, 1], shifted_coords[:, 0], shape=mask.shape)\n",
    "    mask[rr, cc] = 1\n",
    "\n",
    "\n",
    "    return mask"
   ],
   "outputs": []
  },
  {
   "cell_type": "code",
   "execution_count": 70,
   "id": "b03c68c3-9ffa-4270-a45a-608b071a3a8e",
   "metadata": {},
   "source": [
    "mask=generate_binary_mask(shapely_obj)"
   ],
   "outputs": []
  },
  {
   "cell_type": "code",
   "execution_count": 72,
   "id": "83b68dba-465a-4284-840c-b88ca6001bb3",
   "metadata": {},
   "source": [
    "plt.imshow(mask)"
   ],
   "outputs": []
  },
  {
   "cell_type": "code",
   "execution_count": 83,
   "id": "575fc157-c68d-4d06-8710-8e6b17e3a3e4",
   "metadata": {},
   "source": [
    "masked_image = np.copy(i)\n",
    "masked_image[mask == 1] = masked_image[mask == 1]*.5\n",
    "\n",
    "# Plot the overlay\n",
    "plt.imshow(masked_image)\n",
    "plt.show()"
   ],
   "outputs": []
  },
  {
   "cell_type": "code",
   "execution_count": 75,
   "id": "697e2ed3-88c8-4690-80f7-b23c933e0ed1",
   "metadata": {},
   "source": [],
   "outputs": []
  },
  {
   "cell_type": "code",
   "execution_count": null,
   "id": "2e64ccef-ba3d-4cd7-97fe-ad92a25b875a",
   "metadata": {},
   "source": [],
   "outputs": []
  },
  {
   "cell_type": "code",
   "execution_count": null,
   "id": "27b74409-c41d-4ba9-b3ad-acdd41143261",
   "metadata": {},
   "source": [],
   "outputs": []
  },
  {
   "cell_type": "code",
   "execution_count": null,
   "id": "cee96cd0-9569-4100-b00d-20b82da84ed6",
   "metadata": {},
   "source": [],
   "outputs": []
  },
  {
   "cell_type": "code",
   "execution_count": null,
   "id": "25660bb6-f9e5-46ad-abb5-c119997ce290",
   "metadata": {},
   "source": [],
   "outputs": []
  },
  {
   "cell_type": "code",
   "execution_count": null,
   "id": "1b8a598e-50de-4d7a-82e4-343c48b8ceb1",
   "metadata": {},
   "source": [],
   "outputs": []
  },
  {
   "cell_type": "code",
   "execution_count": null,
   "id": "00f51ed1-f178-41f7-bf5e-a696cfc17e4a",
   "metadata": {},
   "source": [],
   "outputs": []
  },
  {
   "cell_type": "code",
   "execution_count": null,
   "id": "c100f519-9ef0-4348-b686-ddd4daf8bf5f",
   "metadata": {},
   "source": [],
   "outputs": []
  },
  {
   "cell_type": "code",
   "execution_count": null,
   "id": "ebec622b-8d82-40b4-a4d2-1a8e59658e76",
   "metadata": {},
   "source": [],
   "outputs": []
  },
  {
   "cell_type": "code",
   "execution_count": 74,
   "id": "7d4b466c-f161-4240-bfa0-c041cc7c0f98",
   "metadata": {},
   "source": [
    "mask.shape"
   ],
   "outputs": []
  },
  {
   "cell_type": "code",
   "execution_count": null,
   "id": "497c0025-ae82-481d-9e6c-b5bfb588524f",
   "metadata": {},
   "source": [
    "\n",
    "shapely_obj.centroid.y"
   ],
   "outputs": []
  },
  {
   "cell_type": "code",
   "execution_count": null,
   "id": "adde41be-7511-4cb7-895e-c8debb6cb57c",
   "metadata": {},
   "source": [
    "#--- below is scratch code for testing converting"
   ],
   "outputs": []
  },
  {
   "cell_type": "code",
   "execution_count": null,
   "id": "5b47de51-1c95-4038-8ea3-5a2f6d340c04",
   "metadata": {},
   "source": [
    "from shapely.geometry import mapping"
   ],
   "outputs": []
  },
  {
   "cell_type": "code",
   "execution_count": null,
   "id": "e3195d80-b08d-412c-816b-9b2e2286910d",
   "metadata": {},
   "source": [
    "geo=mapping(shapely_obj)"
   ],
   "outputs": []
  },
  {
   "cell_type": "code",
   "execution_count": null,
   "id": "be09b539-a79e-48d8-9ed0-e25b34addf92",
   "metadata": {},
   "source": [
    "import geojson"
   ],
   "outputs": []
  },
  {
   "cell_type": "code",
   "execution_count": null,
   "id": "6418be51-a33c-44db-a4af-cd0798732df8",
   "metadata": {},
   "source": [
    "\n",
    "props={\"color\":[1,2,3],\"name\":\"tubule\"}"
   ],
   "outputs": []
  },
  {
   "cell_type": "code",
   "execution_count": null,
   "id": "c64b3558-cafe-4ce6-b747-8aff9ddef993",
   "metadata": {},
   "source": [
    "props"
   ],
   "outputs": []
  },
  {
   "cell_type": "code",
   "execution_count": null,
   "id": "f36cc247-bc6e-4f3f-873b-0dd7dc66754b",
   "metadata": {
    "lines_to_next_cell": 2
   },
   "source": [
    "feature = geojson.Feature(geometry=geo, properties=props)"
   ],
   "outputs": []
  },
  {
   "cell_type": "code",
   "execution_count": null,
   "id": "15d4791f-3012-4d2d-897a-e4c739074093",
   "metadata": {},
   "source": [
    "geojson.dumps(feature)"
   ],
   "outputs": []
  },
  {
   "cell_type": "code",
   "execution_count": null,
   "id": "cee59479-976d-47bd-90aa-e3a54091b2d5",
   "metadata": {},
   "source": [],
   "outputs": []
  }
 ],
 "metadata": {
  "jupytext": {
   "formats": "ipynb,py:light"
  },
  "kernelspec": {
   "display_name": "Python 3 (ipykernel)",
   "language": "python",
   "name": "python3"
  },
  "language_info": {
   "codemirror_mode": {
    "name": "ipython",
    "version": 3
   },
   "file_extension": ".py",
   "mimetype": "text/x-python",
   "name": "python",
   "nbconvert_exporter": "python",
   "pygments_lexer": "ipython3",
   "version": "3.10.12"
  }
 },
 "nbformat": 4,
 "nbformat_minor": 5
}
