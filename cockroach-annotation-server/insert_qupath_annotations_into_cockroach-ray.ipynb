{
 "cells": [
  {
   "cell_type": "code",
   "execution_count": null,
   "id": "6c2bd055-edb5-4e0b-8d7d-616fa98f183b",
   "metadata": {},
   "source": [
    "#https://www.cockroachlabs.com/docs/stable/start-a-local-cluster-in-docker-linux.html#step-7-stop-the-cluster"
   ],
   "outputs": []
  },
  {
   "cell_type": "code",
   "execution_count": 1,
   "id": "97125815",
   "metadata": {},
   "source": [
    "import json"
   ],
   "outputs": []
  },
  {
   "cell_type": "code",
   "execution_count": 2,
   "id": "b9dcc218-b15f-42c1-9f14-4c4703eaa6b2",
   "metadata": {},
   "source": [
    "from sqlalchemy import create_engine, Column, String, Integer, func\n",
    "from sqlalchemy.ext.declarative import declarative_base\n",
    "from sqlalchemy.dialects.postgresql import ARRAY\n",
    "from sqlalchemy.orm import sessionmaker\n",
    "from geoalchemy2 import Geometry \n",
    "from tqdm import tqdm"
   ],
   "outputs": []
  },
  {
   "cell_type": "code",
   "execution_count": 3,
   "id": "55453114-2dcf-47bc-8fff-5f9ed89f51c8",
   "metadata": {},
   "source": [
    "import ray"
   ],
   "outputs": []
  },
  {
   "cell_type": "code",
   "execution_count": 4,
   "id": "98f6dcdf",
   "metadata": {},
   "source": [
    "%%time\n",
    "with open('13_266069_040_003 L02 PAS.json', 'r') as file:\n",
    "    # Load the JSON data into a Python dictionary\n",
    "    data = json.load(file)"
   ],
   "outputs": []
  },
  {
   "cell_type": "code",
   "execution_count": 5,
   "id": "c98dd838-b7ed-41d7-9394-b04142026220",
   "metadata": {
    "lines_to_next_cell": 2
   },
   "source": [
    "import shapely\n",
    "from shapely.geometry import shape"
   ],
   "outputs": []
  },
  {
   "cell_type": "code",
   "execution_count": 6,
   "id": "debe6f91-c964-4624-a838-344e03716759",
   "metadata": {},
   "source": [
    "# Define the base class for ORM\n",
    "Base = declarative_base()\n",
    "\n",
    "# Define the Annotation class\n",
    "class Annotation(Base):\n",
    "    __tablename__ = 'annotations'\n",
    "\n",
    "    id = Column(Integer, primary_key=True)\n",
    "    name = Column(String)\n",
    "    color = Column(ARRAY(Integer))\n",
    "    coordinates = Column(Geometry('POLYGON'))"
   ],
   "outputs": []
  },
  {
   "cell_type": "code",
   "execution_count": 9,
   "id": "e81894dd-bb92-4c19-9795-579ed27001d1",
   "metadata": {},
   "source": [
    "#%%timeit\n",
    "# Create a connection to CockroachDB\n",
    "#engine = create_engine('cockroachdb://root@170.140.138.73:26257/test1',echo=True)\n",
    "engine = create_engine('cockroachdb://root@170.140.138.87:26257/test1')#,echo=True)"
   ],
   "outputs": []
  },
  {
   "cell_type": "code",
   "execution_count": null,
   "id": "b77036c2-9abf-4a18-be1c-a2bae395aea6",
   "metadata": {},
   "source": [
    "from sqlalchemy_utils import database_exists, create_database\n",
    "\n",
    "if not database_exists(engine.url):\n",
    "    print(\"creating\")\n",
    "    create_database(engine.url)\n",
    "\n",
    "print(database_exists(engine.url))"
   ],
   "outputs": []
  },
  {
   "cell_type": "code",
   "execution_count": 19,
   "id": "5792d554-489f-4dd5-bd4c-2a92b955383b",
   "metadata": {},
   "source": [
    "# Create the table if it doesn't exist\n",
    "Base.metadata.create_all(engine)"
   ],
   "outputs": []
  },
  {
   "cell_type": "code",
   "execution_count": 15,
   "id": "8d688f6b-5996-4498-9089-be51c49e0d9d",
   "metadata": {},
   "source": [
    "@ray.remote\n",
    "def commit(annos):\n",
    "    from sqlalchemy import create_engine, Column, String, Integer, func\n",
    "    from sqlalchemy import create_engine, Column, String, Integer, func\n",
    "    from sqlalchemy.ext.declarative import declarative_base\n",
    "    from sqlalchemy.dialects.postgresql import ARRAY\n",
    "    from sqlalchemy.orm import sessionmaker\n",
    "    from geoalchemy2 import Geometry \n",
    "    from tqdm import tqdm\n",
    "    import numpy as np\n",
    "# Define the base class for ORM\n",
    "    Base = declarative_base()\n",
    "    \n",
    "    # Define the Annotation class\n",
    "    class Annotation(Base):\n",
    "        __tablename__ = 'annotations'\n",
    "    \n",
    "        id = Column(Integer, primary_key=True)\n",
    "        name = Column(String)\n",
    "        color = Column(ARRAY(Integer))\n",
    "        coordinates = Column(Geometry('POLYGON'))\n",
    "    \n",
    "    #engine = create_engine('cockroachdb://root@170.140.138.87:26257/test1')#,echo=True)\n",
    "    db_url=np.random.choice(['cockroachdb://root@170.140.138.87:26257/test1',\n",
    "                             'cockroachdb://root@170.140.138.63:26257/test1',\n",
    "                             'cockroachdb://root@170.140.138.73:26257/test1'])\n",
    "    engine = create_engine(db_url)#,echo=True)\n",
    "    # Create a session\n",
    "    Session = sessionmaker(bind=engine)\n",
    "    session = Session()\n",
    "    for a in annos:\n",
    "        session.add(Annotation(name=a[0], color=a[1], coordinates=a[2].wkt))\n",
    "    \n",
    "    session.commit()\n",
    "    session.close()"
   ],
   "outputs": []
  },
  {
   "cell_type": "code",
   "execution_count": 12,
   "id": "71e748c3-5526-4c1e-9b4f-aaaef3044d44",
   "metadata": {},
   "source": [
    "ray.init()"
   ],
   "outputs": []
  },
  {
   "cell_type": "code",
   "execution_count": 22,
   "id": "50a29dc3-bfb7-4dc4-b97e-e34b7db60126",
   "metadata": {
    "lines_to_next_cell": 0
   },
   "source": [
    "%%time\n",
    "#--- reasonable\n",
    "\n",
    "tasks = []\n",
    "all_anno=[]\n",
    "for i,d in enumerate(tqdm(data)):\n",
    "    shapely_geometry = shape(d['geometry'])\n",
    "    # new_annotation = Annotation(name=d['properties']['classification']['name'],\n",
    "    #                             color=d['properties']['classification']['color'], \n",
    "    #                             coordinates=shapely_geometry.wkt)\n",
    "    name = d['properties']['classification']['name']\n",
    "    color = d['properties']['classification']['color']\n",
    "    geom = shapely_geometry\n",
    "    \n",
    "    all_anno.append([name,color,geom])\n",
    "    if len(all_anno)==1_000:\n",
    "        task= commit.remote(all_anno)\n",
    "        tasks.append(task)\n",
    "        all_anno=[]\n",
    "        \n",
    "    \n",
    "\n",
    "print(\"waiting\")\n",
    "vals=ray.get(tasks)\n",
    "print(len(vals))\n",
    "\n"
   ],
   "outputs": []
  },
  {
   "cell_type": "code",
   "execution_count": null,
   "id": "56501dbb-d072-4d5b-b22a-652fcc8e094e",
   "metadata": {},
   "source": [
    "\n",
    "import pickle"
   ],
   "outputs": []
  },
  {
   "cell_type": "code",
   "execution_count": null,
   "id": "35010d30-666d-4edc-9924-319c9a5b8af3",
   "metadata": {},
   "source": [
    "a=pickle.dumps(new_annotation)"
   ],
   "outputs": []
  },
  {
   "cell_type": "code",
   "execution_count": null,
   "id": "be46bac4-3fc5-4793-9910-ce27878c0bd7",
   "metadata": {},
   "source": [],
   "outputs": []
  },
  {
   "cell_type": "code",
   "execution_count": null,
   "id": "680c1a06-e75b-4cf9-82e2-f2728037c7d1",
   "metadata": {},
   "source": [],
   "outputs": []
  },
  {
   "cell_type": "code",
   "execution_count": null,
   "id": "d40ca588-cce5-47b7-baeb-a37da95e144a",
   "metadata": {
    "lines_to_next_cell": 0
   },
   "source": [
    "#---------- below is scratch code for testing query"
   ],
   "outputs": []
  },
  {
   "cell_type": "code",
   "execution_count": null,
   "id": "2ad9074b-5add-4ec2-b683-58771869b5f7",
   "metadata": {},
   "source": [],
   "outputs": []
  },
  {
   "cell_type": "code",
   "execution_count": null,
   "id": "0a055b43-39a6-4969-9d38-38e581d22074",
   "metadata": {
    "lines_to_next_cell": 2
   },
   "source": [],
   "outputs": []
  },
  {
   "cell_type": "code",
   "execution_count": null,
   "id": "5e34abb8-2913-4cce-b03b-8b98d4de4604",
   "metadata": {},
   "source": [
    "from shapely.geometry import Point\n",
    "from geoalchemy2.functions import ST_Contains, ST_Intersects, ST_AsBinary, ST_AsText\n",
    "from geoalchemy2 import WKTElement"
   ],
   "outputs": []
  },
  {
   "cell_type": "code",
   "execution_count": null,
   "id": "f97e54d2-4cf5-4174-b48b-5af7ff0566ff",
   "metadata": {},
   "source": [
    "import numpy as np"
   ],
   "outputs": []
  },
  {
   "cell_type": "code",
   "execution_count": null,
   "id": "9b938cb8-e3bf-44a4-b242-248f25b81a27",
   "metadata": {},
   "source": [],
   "outputs": []
  },
  {
   "cell_type": "code",
   "execution_count": null,
   "id": "cecb9234-9831-45dd-b8d0-a4758b845f91",
   "metadata": {},
   "source": [
    "query_geom = shape(data[0]['geometry'])\n",
    "#query_geom = shape(np.random.choice(data)['geometry'])"
   ],
   "outputs": []
  },
  {
   "cell_type": "code",
   "execution_count": null,
   "id": "b59468a5-c8b9-48ae-903e-dc443991460d",
   "metadata": {
    "lines_to_next_cell": 2
   },
   "source": [
    "Session = sessionmaker(bind=engine)\n",
    "session = Session()"
   ],
   "outputs": []
  },
  {
   "cell_type": "code",
   "execution_count": null,
   "id": "03bd4c09-651c-429a-a318-880a8d6b8a1e",
   "metadata": {},
   "source": [
    "#%%timeit\n",
    "\n",
    "query_geom = shape(np.random.choice(data)['geometry'])\n",
    "results = session.query(Annotation).filter(ST_Contains(Annotation.coordinates, query_geom.centroid.wkt)).all()"
   ],
   "outputs": []
  },
  {
   "cell_type": "code",
   "execution_count": null,
   "id": "3a4a20fb-46cd-4ecd-b4fe-d30007ada67a",
   "metadata": {},
   "source": [
    "# Print the results\n",
    "from shapely import wkt, wkb\n",
    "for i,annotation in enumerate(results):\n",
    "    print(i,annotation.name)\n",
    "    shapely_obj=wkb.loads(str(annotation.coordinates))\n",
    "    print(shapely_obj.centroid)"
   ],
   "outputs": []
  },
  {
   "cell_type": "code",
   "execution_count": null,
   "id": "a06059f2-8f89-4eb5-8512-a58e9f7f1b11",
   "metadata": {},
   "source": [
    "shapely_obj"
   ],
   "outputs": []
  },
  {
   "cell_type": "code",
   "execution_count": null,
   "id": "497c0025-ae82-481d-9e6c-b5bfb588524f",
   "metadata": {},
   "source": [
    "\n",
    "shapely_obj.centroid.y"
   ],
   "outputs": []
  },
  {
   "cell_type": "code",
   "execution_count": null,
   "id": "adde41be-7511-4cb7-895e-c8debb6cb57c",
   "metadata": {},
   "source": [
    "#--- below is scratch code for testing converting"
   ],
   "outputs": []
  },
  {
   "cell_type": "code",
   "execution_count": null,
   "id": "5b47de51-1c95-4038-8ea3-5a2f6d340c04",
   "metadata": {},
   "source": [
    "from shapely.geometry import mapping"
   ],
   "outputs": []
  },
  {
   "cell_type": "code",
   "execution_count": null,
   "id": "e3195d80-b08d-412c-816b-9b2e2286910d",
   "metadata": {},
   "source": [
    "geo=mapping(shapely_obj)"
   ],
   "outputs": []
  },
  {
   "cell_type": "code",
   "execution_count": null,
   "id": "be09b539-a79e-48d8-9ed0-e25b34addf92",
   "metadata": {},
   "source": [
    "import geojson"
   ],
   "outputs": []
  },
  {
   "cell_type": "code",
   "execution_count": null,
   "id": "6418be51-a33c-44db-a4af-cd0798732df8",
   "metadata": {},
   "source": [
    "\n",
    "props={\"color\":[1,2,3],\"name\":\"tubule\"}"
   ],
   "outputs": []
  },
  {
   "cell_type": "code",
   "execution_count": null,
   "id": "c64b3558-cafe-4ce6-b747-8aff9ddef993",
   "metadata": {},
   "source": [
    "props"
   ],
   "outputs": []
  },
  {
   "cell_type": "code",
   "execution_count": null,
   "id": "f36cc247-bc6e-4f3f-873b-0dd7dc66754b",
   "metadata": {
    "lines_to_next_cell": 2
   },
   "source": [
    "feature = geojson.Feature(geometry=geo, properties=props)"
   ],
   "outputs": []
  },
  {
   "cell_type": "code",
   "execution_count": null,
   "id": "15d4791f-3012-4d2d-897a-e4c739074093",
   "metadata": {},
   "source": [
    "geojson.dumps(feature)"
   ],
   "outputs": []
  },
  {
   "cell_type": "code",
   "execution_count": null,
   "id": "cee59479-976d-47bd-90aa-e3a54091b2d5",
   "metadata": {},
   "source": [],
   "outputs": []
  }
 ],
 "metadata": {
  "jupytext": {
   "formats": "ipynb,py:light"
  },
  "kernelspec": {
   "display_name": "Python 3 (ipykernel)",
   "language": "python",
   "name": "python3"
  },
  "language_info": {
   "codemirror_mode": {
    "name": "ipython",
    "version": 3
   },
   "file_extension": ".py",
   "mimetype": "text/x-python",
   "name": "python",
   "nbconvert_exporter": "python",
   "pygments_lexer": "ipython3",
   "version": "3.10.12"
  }
 },
 "nbformat": 4,
 "nbformat_minor": 5
}
