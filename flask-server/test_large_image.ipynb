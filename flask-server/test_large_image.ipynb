{
 "cells": [
  {
   "cell_type": "code",
   "execution_count": null,
   "id": "initial_id",
   "metadata": {
    "ExecuteTime": {
     "end_time": "2024-05-13T22:22:33.785458Z",
     "start_time": "2024-05-13T22:22:33.649509Z"
    },
    "collapsed": true
   },
   "outputs": [],
   "source": [
    "import large_image"
   ]
  },
  {
   "cell_type": "code",
   "execution_count": null,
   "id": "91562425d49a657d",
   "metadata": {
    "ExecuteTime": {
     "end_time": "2024-05-13T22:24:02.972146Z",
     "start_time": "2024-05-13T22:24:02.968385Z"
    }
   },
   "outputs": [],
   "source": [
    "path = '/home/jackson/research/data/tortuosity_study/tortuosity_training_set/_1687394.svs'"
   ]
  },
  {
   "cell_type": "code",
   "execution_count": null,
   "id": "c4c6e17a6c2cf1d9",
   "metadata": {
    "ExecuteTime": {
     "end_time": "2024-05-13T22:24:11.801932Z",
     "start_time": "2024-05-13T22:24:11.732598Z"
    }
   },
   "outputs": [],
   "source": [
    "source = large_image.open(path)"
   ]
  },
  {
   "cell_type": "code",
   "execution_count": null,
   "id": "a8ac33d9e108c56f",
   "metadata": {
    "ExecuteTime": {
     "end_time": "2024-05-13T22:25:16.460769Z",
     "start_time": "2024-05-13T22:25:16.453693Z"
    }
   },
   "outputs": [],
   "source": [
    "source.getTile(0, 0, 4)"
   ]
  }
 ],
 "metadata": {
  "kernelspec": {
   "display_name": "Python 3",
   "language": "python",
   "name": "python3"
  },
  "language_info": {
   "codemirror_mode": {
    "name": "ipython",
    "version": 2
   },
   "file_extension": ".py",
   "mimetype": "text/x-python",
   "name": "python",
   "nbconvert_exporter": "python",
   "pygments_lexer": "ipython2",
   "version": "2.7.6"
  }
 },
 "nbformat": 4,
 "nbformat_minor": 5
}
